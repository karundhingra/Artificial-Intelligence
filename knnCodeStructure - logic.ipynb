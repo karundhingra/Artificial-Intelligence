{
 "cells": [
  {
   "cell_type": "code",
   "execution_count": null,
   "metadata": {},
   "outputs": [],
   "source": [
    "#Euclidean Distance as the data is numerical(different measure system to be used for categorical data)"
   ]
  },
  {
   "cell_type": "code",
   "execution_count": 77,
   "metadata": {},
   "outputs": [],
   "source": [
    "import math\n",
    "def euclideanDistance(instance1, instance2, length):\n",
    "    dis = 0\n",
    "    for x in range(length):\n",
    "        dis += ((instance1[x] - instance2[x])**2)\n",
    "    return math.sqrt(dis)"
   ]
  },
  {
   "cell_type": "code",
   "execution_count": null,
   "metadata": {},
   "outputs": [],
   "source": [
    "# finding neighbors for the specified value of k appending the response "
   ]
  },
  {
   "cell_type": "code",
   "execution_count": 95,
   "metadata": {},
   "outputs": [],
   "source": [
    "import operator\n",
    "def knearestneighbour(test1,train,k):\n",
    "    distance = []\n",
    "    responseb =0\n",
    "    responsea =0\n",
    "    for x in range(len(train)):\n",
    "        d = euclideanDistance(test1,train[x],len(test1) - 1)\n",
    "        distance.append((train[x],d))\n",
    "    distance.sort(key=operator.itemgetter(1))       \n",
    "    neighbor = []\n",
    "    for i in range(k):\n",
    "        neighbor.append(distance[i][0])    \n",
    "    for n in neighbor:\n",
    "        if n[-1] == 'b':\n",
    "            responseb = responseb+1\n",
    "        else:\n",
    "            responsea = responsea + 1    \n",
    "    if responseb > responsea:\n",
    "        test1.append('b')\n",
    "    else:\n",
    "        test1.append('a')        \n",
    "    return test1\n"
   ]
  },
  {
   "cell_type": "code",
   "execution_count": null,
   "metadata": {},
   "outputs": [],
   "source": [
    "#Accuracy (correct predicted over the given  on test data)"
   ]
  },
  {
   "cell_type": "code",
   "execution_count": 127,
   "metadata": {},
   "outputs": [],
   "source": [
    "def accuracy(test,predictions):\n",
    "    correct = 0 \n",
    "    for i in range(len(test)):\n",
    "        if test[i][-1] == predictions[i]:\n",
    "            correct = correct + 1\n",
    "    return correct/(len(predictions)) * 100"
   ]
  },
  {
   "cell_type": "code",
   "execution_count": null,
   "metadata": {},
   "outputs": [],
   "source": [
    "#Sample data for practicing"
   ]
  },
  {
   "cell_type": "code",
   "execution_count": null,
   "metadata": {},
   "outputs": [],
   "source": [
    "train = [[2, 2, 2,'a'], [4, 4, 4,'b'],[3, 3, 3,'a'],[1, 1, 1,'a']]\n",
    "testSet = [[1,1,1,'a'], [2,2,2,'a'], [3,3,3,'b']]\n",
    "predictions = ['a', 'a', 'a']\n"
   ]
  }
 ],
 "metadata": {
  "kernelspec": {
   "display_name": "Python 3",
   "language": "python",
   "name": "python3"
  },
  "language_info": {
   "codemirror_mode": {
    "name": "ipython",
    "version": 3
   },
   "file_extension": ".py",
   "mimetype": "text/x-python",
   "name": "python",
   "nbconvert_exporter": "python",
   "pygments_lexer": "ipython3",
   "version": "3.6.5"
  }
 },
 "nbformat": 4,
 "nbformat_minor": 2
}
